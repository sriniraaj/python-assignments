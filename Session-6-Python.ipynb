{
 "cells": [
  {
   "cell_type": "raw",
   "metadata": {},
   "source": [
    "str=\"Hello World\""
   ]
  },
  {
   "cell_type": "code",
   "execution_count": 8,
   "metadata": {},
   "outputs": [],
   "source": [
    "def PrintMe():\n",
    "    print(str)"
   ]
  },
  {
   "cell_type": "code",
   "execution_count": 9,
   "metadata": {},
   "outputs": [],
   "source": [
    "str=\"Hello\""
   ]
  },
  {
   "cell_type": "code",
   "execution_count": 10,
   "metadata": {},
   "outputs": [
    {
     "name": "stdout",
     "output_type": "stream",
     "text": [
      "Hello\n"
     ]
    }
   ],
   "source": [
    "PrintMe()"
   ]
  },
  {
   "cell_type": "code",
   "execution_count": 14,
   "metadata": {},
   "outputs": [
    {
     "name": "stdout",
     "output_type": "stream",
     "text": [
      "20\n"
     ]
    }
   ],
   "source": [
    "s=20\n",
    "def PrintMe():\n",
    "    s=10\n",
    "    print(s)\n",
    "print(s)"
   ]
  },
  {
   "cell_type": "code",
   "execution_count": 12,
   "metadata": {},
   "outputs": [
    {
     "name": "stdout",
     "output_type": "stream",
     "text": [
      "10\n"
     ]
    }
   ],
   "source": [
    "PrintMe()"
   ]
  },
  {
   "cell_type": "code",
   "execution_count": 18,
   "metadata": {},
   "outputs": [
    {
     "name": "stdout",
     "output_type": "stream",
     "text": [
      "0 0\n",
      "1 1\n",
      "2 4\n",
      "3 9\n",
      "4 16\n",
      "5 25\n"
     ]
    }
   ],
   "source": [
    "d={}\n",
    "for i in range(6):\n",
    "    print(i,i*i)"
   ]
  },
  {
   "cell_type": "code",
   "execution_count": 20,
   "metadata": {},
   "outputs": [
    {
     "name": "stdout",
     "output_type": "stream",
     "text": [
      "This is a an online sesssion for python at Prime classes Hyderabad\n",
      "\n"
     ]
    }
   ],
   "source": [
    "# File Operation\n",
    "f=open(\"prime\",\"r\")\n",
    "for each in f:\n",
    "    print(each)"
   ]
  },
  {
   "cell_type": "code",
   "execution_count": 21,
   "metadata": {},
   "outputs": [
    {
     "name": "stdout",
     "output_type": "stream",
     "text": [
      "This is a an online sesssion for python at Prime classes Hyderabad\n",
      "\n"
     ]
    }
   ],
   "source": [
    "f=open(\"prime\",\"r\")\n",
    "print(f.read())"
   ]
  },
  {
   "cell_type": "code",
   "execution_count": 25,
   "metadata": {},
   "outputs": [
    {
     "data": {
      "text/plain": [
       "'This is a an online '"
      ]
     },
     "execution_count": 25,
     "metadata": {},
     "output_type": "execute_result"
    }
   ],
   "source": [
    "f=open(\"prime\",\"r\")\n",
    "f.read(20)"
   ]
  },
  {
   "cell_type": "code",
   "execution_count": 26,
   "metadata": {},
   "outputs": [],
   "source": [
    "f=open(\"prime1\",\"w\")\n",
    "f.write(\"Hello, Welcome to Online Classes\")\n",
    "f.write(\"Prime Classes,Hyderabad\")\n",
    "f.close()"
   ]
  },
  {
   "cell_type": "code",
   "execution_count": 27,
   "metadata": {},
   "outputs": [
    {
     "data": {
      "text/plain": [
       "'Hello, Welcome to Online ClassesPrime Classes,Hyderabad'"
      ]
     },
     "execution_count": 27,
     "metadata": {},
     "output_type": "execute_result"
    }
   ],
   "source": [
    "f=open(\"prime1\",\"r\")\n",
    "f.read()"
   ]
  },
  {
   "cell_type": "code",
   "execution_count": 28,
   "metadata": {},
   "outputs": [],
   "source": [
    "f=open(\"prime\",\"w\")\n",
    "f.write(\"Hello, Welcome to Online Classes\")\n",
    "f.write(\"Prime Classes,Hyderabad\")\n",
    "f.close()"
   ]
  },
  {
   "cell_type": "code",
   "execution_count": 30,
   "metadata": {},
   "outputs": [
    {
     "data": {
      "text/plain": [
       "'Hello, Welcome to Online ClassesPrime Classes,Hyderabad'"
      ]
     },
     "execution_count": 30,
     "metadata": {},
     "output_type": "execute_result"
    }
   ],
   "source": [
    "f=open(\"prime\",\"r\")\n",
    "f.read()"
   ]
  },
  {
   "cell_type": "code",
   "execution_count": 31,
   "metadata": {},
   "outputs": [],
   "source": [
    "f=open(\"prime\",\"a\")\n",
    "f.write(\"I am adding new content to existing file\")\n",
    "f.close()"
   ]
  },
  {
   "cell_type": "code",
   "execution_count": 32,
   "metadata": {},
   "outputs": [
    {
     "data": {
      "text/plain": [
       "'Hello, Welcome to Online ClassesPrime Classes,HyderabadI am adding new content to existing file'"
      ]
     },
     "execution_count": 32,
     "metadata": {},
     "output_type": "execute_result"
    }
   ],
   "source": [
    "f=open(\"prime\",\"r\")\n",
    "f.read()"
   ]
  },
  {
   "cell_type": "code",
   "execution_count": 34,
   "metadata": {},
   "outputs": [
    {
     "name": "stdout",
     "output_type": "stream",
     "text": [
      "['Hello,', 'Welcome', 'to', 'Online', 'ClassesPrime', 'Classes,HyderabadI', 'am', 'adding', 'new', 'content', 'to', 'existing', 'file']\n"
     ]
    }
   ],
   "source": [
    "with open(\"prime\", \"r\") as file:\n",
    "    data = file.readlines()\n",
    "for line in data:\n",
    "    word = line.split()\n",
    "    print(word)"
   ]
  },
  {
   "cell_type": "code",
   "execution_count": 36,
   "metadata": {
    "scrolled": true
   },
   "outputs": [
    {
     "name": "stdout",
     "output_type": "stream",
     "text": [
      "{'name': 'Bob', 'languages': ['English', 'French']}\n"
     ]
    }
   ],
   "source": [
    "#Handling JSON\n",
    "import json\n",
    "with open(\"person.json\") as f:\n",
    "    data=json.load(f)\n",
    "    print(data)"
   ]
  },
  {
   "cell_type": "code",
   "execution_count": 46,
   "metadata": {},
   "outputs": [
    {
     "name": "stdout",
     "output_type": "stream",
     "text": [
      "1\n",
      "1.2\n",
      "1.2\n"
     ]
    }
   ],
   "source": [
    "import json\n",
    "# read file\n",
    "with open('example.json', 'r') as myfile:\n",
    "    data=myfile.read()\n",
    "# parse file\n",
    "    obj = json.loads(data)\n",
    "# show values\n",
    "print(obj['usd'])\n",
    "print(obj['eur'])\n",
    "print(obj['gbp'])"
   ]
  },
  {
   "cell_type": "code",
   "execution_count": 49,
   "metadata": {
    "scrolled": true
   },
   "outputs": [
    {
     "name": "stdout",
     "output_type": "stream",
     "text": [
      "<employees>\n",
      "<employee>\n",
      "\t<fname>Raju</fname>\n",
      "</employee>\n",
      "<employee>\n",
      "</employee>\n",
      "\t<fname>Ravi</fname>\n",
      "</employees>\n",
      "\n",
      "['Raju', 'Ravi']\n"
     ]
    }
   ],
   "source": [
    "import re\n",
    "content = open(\"employee.xml\").read();\n",
    "print(content)\n",
    "firstName = re.findall('<fname>(.*)</fname>', content)\n",
    "print(firstName)"
   ]
  },
  {
   "cell_type": "code",
   "execution_count": 55,
   "metadata": {},
   "outputs": [
    {
     "name": "stdout",
     "output_type": "stream",
     "text": [
      "['Raju', '45', 'Hyderabad']\n",
      "['Ravi', '45', 'Bangalore']\n",
      "['Rakhi', '65', 'Chennai']\n",
      "['Rakesh', '65', 'Kolkota']\n"
     ]
    }
   ],
   "source": [
    "#Reading an CSV File\n",
    "import csv\n",
    "with open('people.csv', 'r') as csvFile:\n",
    "    reader = csv.reader(csvFile)\n",
    "    for row in reader:\n",
    "        print(row)\n",
    "csvFile.close()"
   ]
  },
  {
   "cell_type": "code",
   "execution_count": 57,
   "metadata": {},
   "outputs": [
    {
     "name": "stdout",
     "output_type": "stream",
     "text": [
      "Raju 45 Hyderabad\n",
      "Ravi 45 Bangalore\n",
      "Rakhi 65 Chennai\n",
      "Rakesh 65 Kolkota\n"
     ]
    }
   ],
   "source": [
    "#Reading an CSV File\n",
    "import csv\n",
    "with open('people.csv', 'r') as csvFile:\n",
    "    reader = csv.reader(csvFile)\n",
    "    for row in reader:\n",
    "        print(row[0],row[1],row[2])\n",
    "csvFile.close()"
   ]
  },
  {
   "cell_type": "code",
   "execution_count": null,
   "metadata": {},
   "outputs": [],
   "source": []
  }
 ],
 "metadata": {
  "kernelspec": {
   "display_name": "Python 3",
   "language": "python",
   "name": "python3"
  },
  "language_info": {
   "codemirror_mode": {
    "name": "ipython",
    "version": 3
   },
   "file_extension": ".py",
   "mimetype": "text/x-python",
   "name": "python",
   "nbconvert_exporter": "python",
   "pygments_lexer": "ipython3",
   "version": "3.7.3"
  }
 },
 "nbformat": 4,
 "nbformat_minor": 2
}
