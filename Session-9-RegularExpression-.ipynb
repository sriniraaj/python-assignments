{
 "cells": [
  {
   "cell_type": "code",
   "execution_count": 2,
   "metadata": {},
   "outputs": [
    {
     "name": "stdout",
     "output_type": "stream",
     "text": [
      "['e', 'a', 'a', 'e', 'a', 'e']\n"
     ]
    }
   ],
   "source": [
    "import re\n",
    "p = re.compile('[a-e]')\n",
    "print(p.findall(\"Hello, I am at Prime Classes\"))"
   ]
  },
  {
   "cell_type": "code",
   "execution_count": 5,
   "metadata": {},
   "outputs": [
    {
     "name": "stdout",
     "output_type": "stream",
     "text": [
      "['e', 'l', 'l', 'o', 'a', 'm', 'a', 'i', 'm', 'e', 'l', 'a', 'e']\n"
     ]
    }
   ],
   "source": [
    "import re\n",
    "p = re.compile('[a-p]')\n",
    "print(p.findall(\"Hello, I am at Prime Classes\"))"
   ]
  },
  {
   "cell_type": "code",
   "execution_count": 6,
   "metadata": {},
   "outputs": [
    {
     "name": "stdout",
     "output_type": "stream",
     "text": [
      "['1', '1', '4', '1', '8', '8', '6']\n"
     ]
    }
   ],
   "source": [
    "import re\n",
    "p = re.compile('\\d')\n",
    "print(p.findall(\"I went to him at 11 A.M. on 4th July 1886\"))"
   ]
  },
  {
   "cell_type": "code",
   "execution_count": 7,
   "metadata": {},
   "outputs": [
    {
     "name": "stdout",
     "output_type": "stream",
     "text": [
      "['11', '4', '1886']\n"
     ]
    }
   ],
   "source": [
    "p = re.compile('\\d+')\n",
    "print(p.findall(\"I went to him at 11 A.M. on 4th July 1886\"))"
   ]
  },
  {
   "cell_type": "code",
   "execution_count": 8,
   "metadata": {},
   "outputs": [
    {
     "name": "stdout",
     "output_type": "stream",
     "text": [
      "['H', 'e', 's', 'a', 'i', 'd', 'i', 'n', 's', 'o', 'm', 'e', '_', 'l', 'a', 'n', 'g']\n"
     ]
    }
   ],
   "source": [
    "p = re.compile('\\w')\n",
    "print(p.findall(\"He said * in some_lang.\"))"
   ]
  },
  {
   "cell_type": "code",
   "execution_count": 9,
   "metadata": {},
   "outputs": [
    {
     "name": "stdout",
     "output_type": "stream",
     "text": [
      "['I', 'went', 'to', 'him', 'at', '11', 'A', 'M', 'he', 'said', 'in', 'some_language']\n"
     ]
    }
   ],
   "source": [
    "p = re.compile('\\w+')\n",
    "print(p.findall(\"I went to him at 11 A.M., he said *** in some_language.\"))"
   ]
  },
  {
   "cell_type": "code",
   "execution_count": 10,
   "metadata": {},
   "outputs": [
    {
     "name": "stdout",
     "output_type": "stream",
     "text": [
      "[' ', ' ', '*', '*', '*', ' ', ' ', '.']\n"
     ]
    }
   ],
   "source": [
    "p = re.compile('\\W')\n",
    "print(p.findall(\"he said *** in some_language.\"))"
   ]
  },
  {
   "cell_type": "code",
   "execution_count": 11,
   "metadata": {},
   "outputs": [
    {
     "name": "stdout",
     "output_type": "stream",
     "text": [
      "['ab', 'abb', 'a', 'abbb']\n"
     ]
    }
   ],
   "source": [
    "p = re.compile('ab*')\n",
    "print(p.findall(\"ababbaabbb\"))"
   ]
  },
  {
   "cell_type": "code",
   "execution_count": 14,
   "metadata": {},
   "outputs": [
    {
     "name": "stdout",
     "output_type": "stream",
     "text": [
      "['a', 'a', 'ac', 'a']\n"
     ]
    }
   ],
   "source": [
    "p = re.compile('ac*')\n",
    "print(p.findall(\"ababbacabbb\"))"
   ]
  },
  {
   "cell_type": "code",
   "execution_count": 15,
   "metadata": {},
   "outputs": [
    {
     "name": "stdout",
     "output_type": "stream",
     "text": [
      "['Words', 'words', 'Words']\n",
      "['Word', 's', 'words', 'Words']\n"
     ]
    }
   ],
   "source": [
    "from re import split\n",
    "print(split('\\W+', 'Words, words , Words'))\n",
    "print(split('\\W+', \"Word's words Words\"))\n"
   ]
  },
  {
   "cell_type": "code",
   "execution_count": 16,
   "metadata": {},
   "outputs": [
    {
     "name": "stdout",
     "output_type": "stream",
     "text": [
      "['On', '12th', 'Jan', '2016', 'at', '11', '02', 'AM']\n"
     ]
    }
   ],
   "source": [
    "print(split('\\W+', 'On 12th Jan 2016, at 11:02 AM'))"
   ]
  },
  {
   "cell_type": "code",
   "execution_count": 17,
   "metadata": {},
   "outputs": [
    {
     "name": "stdout",
     "output_type": "stream",
     "text": [
      "['On ', 'th Jan ', ', at ', ':', ' AM']\n"
     ]
    }
   ],
   "source": [
    "print(split('\\d+', 'On 12th Jan 2016, at 11:02 AM'))"
   ]
  },
  {
   "cell_type": "code",
   "execution_count": 18,
   "metadata": {},
   "outputs": [
    {
     "name": "stdout",
     "output_type": "stream",
     "text": [
      "['On ', 'th Jan 2016, at 11:02 AM']\n"
     ]
    }
   ],
   "source": [
    "print(re.split('\\d+', 'On 12th Jan 2016, at 11:02 AM', 1))"
   ]
  },
  {
   "cell_type": "code",
   "execution_count": 19,
   "metadata": {},
   "outputs": [
    {
     "name": "stdout",
     "output_type": "stream",
     "text": [
      "['On ', 'th Jan ', ', at 11:02 AM']\n"
     ]
    }
   ],
   "source": [
    "print(re.split('\\d+', 'On 12th Jan 2016, at 11:02 AM', 2))"
   ]
  },
  {
   "cell_type": "code",
   "execution_count": 20,
   "metadata": {},
   "outputs": [
    {
     "name": "stdout",
     "output_type": "stream",
     "text": [
      "['H', 'y, ', 'oy or ', 'oy, ', 'om', ' h', 'r', '']\n"
     ]
    }
   ],
   "source": [
    "print(re.split('[a-f]+', 'Hey, Boy or boy, come here', flags = re.IGNORECASE))"
   ]
  },
  {
   "cell_type": "code",
   "execution_count": 21,
   "metadata": {},
   "outputs": [
    {
     "name": "stdout",
     "output_type": "stream",
     "text": [
      "['H', 'y, Boy or ', 'oy, ', 'om', ' h', 'r', '']\n"
     ]
    }
   ],
   "source": [
    "print(re.split('[a-f]+', 'Hey, Boy or boy, come here'))"
   ]
  },
  {
   "cell_type": "code",
   "execution_count": 22,
   "metadata": {},
   "outputs": [
    {
     "name": "stdout",
     "output_type": "stream",
     "text": [
      "['H', 'y, ', 'oy or ', 'oy, ', 'om', ' h', 'r', '']\n"
     ]
    }
   ],
   "source": [
    "print(re.split('[a-f]+', 'Hey, Boy or boy, come hEre', flags = re.IGNORECASE))"
   ]
  },
  {
   "cell_type": "code",
   "execution_count": 23,
   "metadata": {},
   "outputs": [
    {
     "name": "stdout",
     "output_type": "stream",
     "text": [
      "['H', 'y, ', 'oy or ', 'oy, ', 'om', ' h', 'r', '']\n"
     ]
    }
   ],
   "source": [
    "print(re.split('[a-fA-F]+', 'Hey, Boy or boy, come hEre'))"
   ]
  },
  {
   "cell_type": "code",
   "execution_count": 25,
   "metadata": {},
   "outputs": [
    {
     "name": "stdout",
     "output_type": "stream",
     "text": [
      "['H', 'y, Boy or ', 'oy, ', 'om', ' h', 'r', '']\n"
     ]
    }
   ],
   "source": [
    "print(re.split('[a-f]+', 'Hey, Boy or boy, come here'))"
   ]
  },
  {
   "cell_type": "code",
   "execution_count": 28,
   "metadata": {},
   "outputs": [
    {
     "name": "stdout",
     "output_type": "stream",
     "text": [
      "Learning at ~*ime classes\n"
     ]
    }
   ],
   "source": [
    "import re\n",
    "print(re.sub('pr', '~*' , 'Learning at prime classes', flags = re.IGNORECASE))"
   ]
  },
  {
   "cell_type": "code",
   "execution_count": 29,
   "metadata": {},
   "outputs": [
    {
     "name": "stdout",
     "output_type": "stream",
     "text": [
      "Learning at ~*ime classes\n"
     ]
    }
   ],
   "source": [
    "import re\n",
    "print(re.sub('pr', '~*' , 'Learning at Prime classes', flags = re.IGNORECASE))"
   ]
  },
  {
   "cell_type": "code",
   "execution_count": 30,
   "metadata": {},
   "outputs": [
    {
     "name": "stdout",
     "output_type": "stream",
     "text": [
      "Learning at Prime classes\n"
     ]
    }
   ],
   "source": [
    "import re\n",
    "print(re.sub('pr', '~*' , 'Learning at Prime classes'))"
   ]
  },
  {
   "cell_type": "code",
   "execution_count": 34,
   "metadata": {},
   "outputs": [
    {
     "name": "stdout",
     "output_type": "stream",
     "text": [
      " Learning at ~*ime classes ~*ime classes prime \n"
     ]
    }
   ],
   "source": [
    "print(re.sub('pr', '~*' , ' Learning at prime classes prime classes prime ', count=2, flags=re.IGNORECASE))"
   ]
  },
  {
   "cell_type": "code",
   "execution_count": 36,
   "metadata": {},
   "outputs": [
    {
     "name": "stdout",
     "output_type": "stream",
     "text": [
      "Jack & Jones\n"
     ]
    }
   ],
   "source": [
    "print(re.sub(r'\\sAND\\s', ' & ', 'Jack And Jones', flags=re.IGNORECASE))"
   ]
  },
  {
   "cell_type": "code",
   "execution_count": 37,
   "metadata": {},
   "outputs": [
    {
     "name": "stdout",
     "output_type": "stream",
     "text": [
      "Jack And Jones\n"
     ]
    }
   ],
   "source": [
    "print(re.sub(r'\\sAND\\s', ' & ', 'Jack And Jones'))"
   ]
  },
  {
   "cell_type": "code",
   "execution_count": 40,
   "metadata": {},
   "outputs": [
    {
     "name": "stdout",
     "output_type": "stream",
     "text": [
      "('Learning at ~*ime classes', 1)\n"
     ]
    }
   ],
   "source": [
    "import re\n",
    "print(re.subn('pr', '~*' , 'Learning at prime classes'))"
   ]
  },
  {
   "cell_type": "code",
   "execution_count": 42,
   "metadata": {},
   "outputs": [
    {
     "name": "stdout",
     "output_type": "stream",
     "text": [
      "('Learning at ~*ime classes ~*ime class Prime', 2)\n"
     ]
    }
   ],
   "source": [
    "import re\n",
    "print(re.subn('pr', '~*' , 'Learning at prime classes prime class Prime'))"
   ]
  },
  {
   "cell_type": "code",
   "execution_count": 43,
   "metadata": {},
   "outputs": [
    {
     "name": "stdout",
     "output_type": "stream",
     "text": [
      "This\\ is\\ Awseome\\ even\\ 1\\ AM\n"
     ]
    }
   ],
   "source": [
    "import re\n",
    "print(re.escape(\"This is Awseome even 1 AM\"))"
   ]
  },
  {
   "cell_type": "code",
   "execution_count": 44,
   "metadata": {},
   "outputs": [
    {
     "name": "stdout",
     "output_type": "stream",
     "text": [
      "I\\ Asked\\ what\\ is\\ this\\ \\[a\\-9\\],\\ he\\ said\\ \\\t\\ \\^WoW\n"
     ]
    }
   ],
   "source": [
    "import re\n",
    "print(re.escape(\"I Asked what is this [a-9], he said \\t ^WoW\"))"
   ]
  },
  {
   "cell_type": "code",
   "execution_count": 46,
   "metadata": {},
   "outputs": [
    {
     "name": "stdout",
     "output_type": "stream",
     "text": [
      "['shubhamg199630@gmail.com', 'priya@yahoo.com', 'a@a.com', 'b@b.com']\n"
     ]
    }
   ],
   "source": [
    "import re\n",
    "s = 'Hello from shubhamg199630@gmail.com to priya@yahoo.com about a@a.com b@b.com the meeting @2PM'\n",
    "lst = re.findall('\\S+@\\S+', s)\n",
    "print(lst)"
   ]
  },
  {
   "cell_type": "code",
   "execution_count": 50,
   "metadata": {},
   "outputs": [],
   "source": [
    "import re\n",
    "emailin = open(\"emailin\", \"r\")\n",
    "f1 = emailin.readlines()\n",
    "emailout = open(\"emailout.txt\", \"a+\")\n",
    "match_list = [ ]\n",
    "for ArrayItem in f1:\n",
    "    match_list = re.findall(r'[\\w\\.-]+@[\\w\\.-]+', ArrayItem)\n",
    "    if(len(match_list)>0):\n",
    "        emailout.write(match_list[0]+\"\\r\\n\")"
   ]
  },
  {
   "cell_type": "code",
   "execution_count": 51,
   "metadata": {},
   "outputs": [
    {
     "name": "stdout",
     "output_type": "stream",
     "text": [
      "Search successful.\n"
     ]
    }
   ],
   "source": [
    "import re\n",
    "pattern = '^a...s$'\n",
    "test_string = 'abyss'\n",
    "result = re.match(pattern, test_string)\n",
    "if result:\n",
    "    print(\"Search successful.\")\n",
    "else:\n",
    "    print(\"Search unsuccessful.\")"
   ]
  },
  {
   "cell_type": "code",
   "execution_count": 55,
   "metadata": {},
   "outputs": [
    {
     "name": "stdout",
     "output_type": "stream",
     "text": [
      "Search successful.\n"
     ]
    }
   ],
   "source": [
    "import re\n",
    "pattern = '^a...s$'\n",
    "test_string = 'abyus'\n",
    "result = re.match(pattern, test_string)\n",
    "if result:\n",
    "    print(\"Search successful.\")\n",
    "else:\n",
    "    print(\"Search unsuccessful.\")"
   ]
  },
  {
   "cell_type": "code",
   "execution_count": 57,
   "metadata": {},
   "outputs": [
    {
     "name": "stdout",
     "output_type": "stream",
     "text": [
      "search: villeasdkaskjdville\n"
     ]
    }
   ],
   "source": [
    "import re\n",
    "value = \"voorheesvilleasdkaskjdville\"\n",
    "m = re.search(\"(vi.*)\", value)\n",
    "if m:\n",
    "    print(\"search:\", m.group(1))"
   ]
  },
  {
   "cell_type": "code",
   "execution_count": 59,
   "metadata": {},
   "outputs": [],
   "source": [
    "value = \"voorheesvilleasdkaskjdville\"\n",
    "m = re.match(\"(vi.*)\", value)\n",
    "if m:\n",
    "    print(\"match:\", m.group(0))"
   ]
  },
  {
   "cell_type": "code",
   "execution_count": 62,
   "metadata": {},
   "outputs": [
    {
     "name": "stdout",
     "output_type": "stream",
     "text": [
      "123\n",
      "start index: 0\n",
      "456\n",
      "start index: 4\n",
      "7890\n",
      "start index: 8\n"
     ]
    }
   ],
   "source": [
    "import re\n",
    "value = \"123 456 7890\"\n",
    "# Loop over all matches found.\n",
    "for m in re.finditer(\"\\d+\", value):\n",
    "        print(m.group(0))\n",
    "        print(\"start index:\", m.start())"
   ]
  },
  {
   "cell_type": "code",
   "execution_count": 63,
   "metadata": {},
   "outputs": [
    {
     "name": "stdout",
     "output_type": "stream",
     "text": [
      "alice-b@google.com\n",
      "alice-b\n",
      "google.com\n"
     ]
    }
   ],
   "source": [
    "str = 'purple alice-b@google.com monkey dishwasher daskdaksdhkasjd'\n",
    "match = re.search(r'([\\w.-]+)@([\\w.-]+)', str)\n",
    "if match:\n",
    "    print(match.group()) ## 'alice-b@google.com' (the whole match)\n",
    "    print(match.group(1)) ## 'alice-b' (the username, group 1)\n",
    "    print(match.group(2)) ## 'google.com' (the host, group 2)"
   ]
  },
  {
   "cell_type": "code",
   "execution_count": 67,
   "metadata": {},
   "outputs": [
    {
     "name": "stdout",
     "output_type": "stream",
     "text": [
      "Clyde\n",
      "Griffiths\n"
     ]
    }
   ],
   "source": [
    "import re\n",
    "name = \"Clyde Griffiths\"\n",
    "m = re.match(\"(?P<first>\\w+)\\W+(?P<last>\\w+)\", name)\n",
    "# Print groups using names as id.\n",
    "if m:\n",
    "    print(m.group(\"first\"))\n",
    "    print(m.group(\"last\"))"
   ]
  },
  {
   "cell_type": "code",
   "execution_count": null,
   "metadata": {},
   "outputs": [],
   "source": [
    "import re\n",
    "password =input(\"Enter string to test: \")\n",
    "if re.match(r'[A-Za-z0-9@#$%^&+=]{8,}', password):\n",
    "    print(\"Valid\")\n",
    "else:\n",
    "    print(\"Not Valid\")"
   ]
  },
  {
   "cell_type": "code",
   "execution_count": null,
   "metadata": {},
   "outputs": [],
   "source": []
  },
  {
   "cell_type": "code",
   "execution_count": null,
   "metadata": {},
   "outputs": [],
   "source": []
  }
 ],
 "metadata": {
  "kernelspec": {
   "display_name": "Python 3",
   "language": "python",
   "name": "python3"
  },
  "language_info": {
   "codemirror_mode": {
    "name": "ipython",
    "version": 3
   },
   "file_extension": ".py",
   "mimetype": "text/x-python",
   "name": "python",
   "nbconvert_exporter": "python",
   "pygments_lexer": "ipython3",
   "version": "3.7.3"
  }
 },
 "nbformat": 4,
 "nbformat_minor": 2
}
